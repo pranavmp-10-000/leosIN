{
 "cells": [
  {
   "cell_type": "code",
   "execution_count": null,
   "id": "999bd318",
   "metadata": {},
   "outputs": [],
   "source": [
    "import numpy as np\n",
    "import scipy as sp\n",
    "import matplotlib.pyplot as plt"
   ]
  },
  {
   "cell_type": "code",
   "execution_count": null,
   "id": "d169f252",
   "metadata": {},
   "outputs": [],
   "source": [
    "fileName = '/home/pranav/Documents/leosIN/2013_04_04_GNSS_SIGNAL_at_CTTC_SPAIN/2013_04_04_GNSS_SIGNAL_at_CTTC_SPAIN.dat'"
   ]
  },
  {
   "cell_type": "markdown",
   "id": "16b50e06",
   "metadata": {},
   "source": [
    "## PreProcessing"
   ]
  },
  {
   "cell_type": "markdown",
   "id": "c8b2bb29",
   "metadata": {},
   "source": [
    "#### Constants"
   ]
  },
  {
   "cell_type": "code",
   "execution_count": null,
   "id": "9b1f231b-6e2d-4374-aca8-7704a7a71d98",
   "metadata": {},
   "outputs": [],
   "source": [
    "## Satellite Frequency\n",
    "FREQ1 = 1.57542e9        #L1_CA\n",
    "FREQ2 = 1.22760e9;       #  L2     frequency (Hz)\n",
    "FREQ5 = 1.17645e9;       #  L5/E5a frequency (Hz)\n",
    "FREQ6 = 1.27875e9;       #  E6/LEX frequency (Hz)\n",
    "FREQ7 = 1.20714e9;       #  E5b    frequency (Hz)\n",
    "FREQ8 = 1.191795e9;      #  E5a+b  frequency (Hz)\n",
    "FREQ9 = 2.492028e9;      #  S      frequency (Hz)\n",
    "FREQ1_GLO = 1.60200e9;   #  GLONASS G1 base frequency (Hz)\n",
    "DFRQ1_GLO = 0.56250e6;   #  GLONASS G1 bias frequency (Hz/n)\n",
    "FREQ2_GLO = 1.24600e9;   #  GLONASS G2 base frequency (Hz)\n",
    "DFRQ2_GLO = 0.43750e6;   #  GLONASS G2 bias frequency (Hz/n)\n",
    "FREQ3_GLO = 1.202025e9;  #  GLONASS G3 frequency (Hz)\n",
    "FREQ1_BDS = 1.561098e9;  #  BeiDou B1 frequency (Hz)\n",
    "FREQ2_BDS = 1.20714e9;   #  BeiDou B2 frequency (Hz)\n",
    "FREQ3_BDS = 1.26852e9;   #  BeiDou B3 frequency (Hz)"
   ]
  },
  {
   "cell_type": "code",
   "execution_count": null,
   "id": "ce83a1e0",
   "metadata": {},
   "outputs": [],
   "source": [
    "#Sat frequency \n",
    "acq_fs = FREQ1\n",
    "### Raw signal Parameters\n",
    "IF = 0\n",
    "samplingFreq=4e6\n",
    "codeFreqBasis = 1.023e6\n",
    "codeLength = 1023\n",
    "samplesPerCode = round(samplingFreq/(codeFreqBasis/codeLength))\n",
    "\n",
    "### Acquisition Settings\n",
    "skipAcquisition = 0\n",
    "acqSatelliteList = list(range(0,37))\n",
    "acqSearchBand = 14\n",
    "acqThreshold = 2.5\n",
    "acquisitionCohCodePeriods=2\n",
    "acquisitionNonCodePeriods=2\n",
    "\n",
    "fileType=2\n",
    "dataOffset=600    "
   ]
  },
  {
   "cell_type": "markdown",
   "id": "1c7c8409",
   "metadata": {},
   "source": [
    "#### File I/O"
   ]
  },
  {
   "cell_type": "code",
   "execution_count": null,
   "id": "7640f4d7-7e5c-4478-8f5c-4c44c62dae7d",
   "metadata": {},
   "outputs": [],
   "source": [
    "if fileType==1:\n",
    "    dataType = np.complex64\n",
    "elif fileType==2:\n",
    "    dataType=np.int8\n",
    "data= np.fromfile(fileName,dataType,offset=dataOffset,\n",
    "count=10*(acquisitionCohCodePeriods*acquisitionNonCodePeriods)*samplesPerCode*6\n",
    ")\n",
    "data.shape"
   ]
  },
  {
   "cell_type": "code",
   "execution_count": null,
   "id": "3337684b",
   "metadata": {},
   "outputs": [],
   "source": [
    "if fileType==2:\n",
    "    oddData = data[::2]\n",
    "    evenData = data[1::2]\n",
    "    fig = plt.figure((10,5))\n",
    "    plt.subplot(211)\n",
    "    plt.plot(oddData[:samplesPerCode])\n",
    "    plt.xlabel('Data Part:I')\n",
    "    plt.subplot(212)\n",
    "    plt.plot(evenData[:samplesPerCode])\n",
    "    plt.xlabel('Data Part:Q')\n"
   ]
  },
  {
   "cell_type": "code",
   "execution_count": null,
   "id": "73c0f913",
   "metadata": {},
   "outputs": [],
   "source": [
    "if fileType==2:\n",
    "    signal = oddData + 1j*evenData\n",
    "else:\n",
    "    signal = data"
   ]
  },
  {
   "cell_type": "markdown",
   "id": "0e56dce9-4532-44fd-835e-d47a35401d58",
   "metadata": {},
   "source": [
    "#### Signal Processing"
   ]
  },
  {
   "cell_type": "markdown",
   "id": "675faadd-5dc4-4dee-8564-9fd89af02e9b",
   "metadata": {},
   "source": [
    "low_pass(\tdouble \tgain,\n",
    "double \tsampling_freq,\n",
    "double \tcutoff_freq,\n",
    "double \ttransition_width,\n",
    "win_type \twindow = WIN_HAMMING,\n",
    "double \tbeta = 6.76 \n",
    ")\t\t"
   ]
  },
  {
   "cell_type": "code",
   "execution_count": null,
   "id": "a52c287b-d6d9-45df-abb6-91570e07d966",
   "metadata": {},
   "outputs": [],
   "source": [
    "x=np.ones((6))\n",
    "x[2:5]"
   ]
  },
  {
   "cell_type": "markdown",
   "id": "d8b0310e",
   "metadata": {},
   "source": [
    "## Acquisition"
   ]
  },
  {
   "cell_type": "code",
   "execution_count": null,
   "id": "51d87665",
   "metadata": {},
   "outputs": [],
   "source": [
    "signal1 = signal[0:samplesPerCode]\n",
    "signal2 = signal[samplesPerCode:2*samplesPerCode]\n",
    "signal0DC = signal-np.mean(signal)\n",
    "ts = 1/samplingFreq\n"
   ]
  },
  {
   "cell_type": "code",
   "execution_count": null,
   "id": "8af81bdc",
   "metadata": {},
   "outputs": [],
   "source": [
    "def generateCACode(prn):\n",
    "    g2s = [  5,   6,   7,   8,  17,  18, 139, 140, 141, 251,\n",
    "       252, 254, 255, 256, 257, 258, 469, 470, 471, 472,\n",
    "       473, 474, 509, 512, 513, 514, 515, 516, 859, 860,\n",
    "       861, 862,863,950,947,948,950]\n",
    "    \n",
    "    g2shift = g2s[prn]\n",
    "    \n",
    "    g1 = np.zeros((1023))\n",
    "    reg = -1*np.ones((10))\n",
    "    for i in range(codeLength):\n",
    "        g1[i]      = reg[9]\n",
    "        saveBit    = reg[2]*reg[9]\n",
    "        reg[1:10]   = reg[0:9]\n",
    "        reg[0]     = saveBit\n",
    "    \n",
    "    g2 = np.zeros((1023))\n",
    "    reg = -1*np.ones((10))\n",
    "    for i in range(codeLength):\n",
    "        g2[i] = reg[9]\n",
    "        saveBit     = reg[1]*reg[2]*reg[5]*reg[7]*reg[8]*reg[9]\n",
    "        reg[1:10]   = reg[0:9]\n",
    "        reg[0]      = saveBit\n",
    "        \n",
    "    g2 = np.concatenate([g2[1023-g2shift:],g2[0:1023-g2shift]])\n",
    "    CAcode = -1*np.multiply(g1,g2)\n",
    "    return CAcode\n",
    "\n",
    "def makeCATable():\n",
    "    caCodesTable = np.zeros((37,samplesPerCode))\n",
    "    ts = 1/samplingFreq\n",
    "    tc = 1/codeFreqBasis\n",
    "    \n",
    "    for i in range(37):\n",
    "        caCode = generateCACode(i)\n",
    "        cvi = ts * np.arange(1,samplesPerCode+1)/ tc\n",
    "        codeValueIndex = np.ceil(cvi-1)\n",
    "    \n",
    "        # Correct the last index (due to number rounding issues) -----------\n",
    "        codeValueIndex[-1] = 1022\n",
    "        codeValueIndex = list(map(int,list(codeValueIndex)))\n",
    "        # Make the digitized version of the C/A code -----------------------\n",
    "        #The \"upsampled\" code is made by selecting values form the CA code\n",
    "        # chip array (caCode) for the time instances of each sample.\n",
    "        caCodesTable[i, :] = caCode[codeValueIndex]\n",
    "        \n",
    "        \n",
    "    return caCodesTable\n",
    "   "
   ]
  },
  {
   "cell_type": "markdown",
   "id": "a48858da",
   "metadata": {},
   "source": [
    "#### Processing"
   ]
  },
  {
   "cell_type": "code",
   "execution_count": null,
   "id": "7cc685ed",
   "metadata": {},
   "outputs": [],
   "source": [
    "phasePoints = (np.arange(0,samplesPerCode))*2*np.pi*ts\n",
    "numberOfFrqBins = round(acqSearchBand*2)+1\n",
    "caCodesTable = makeCATable()\n",
    "results = np.zeros((numberOfFrqBins,samplesPerCode))\n",
    "frqBins = np.zeros((numberOfFrqBins))"
   ]
  },
  {
   "cell_type": "code",
   "execution_count": null,
   "id": "da6892ad-7473-4628-8979-ea6972393d53",
   "metadata": {},
   "outputs": [],
   "source": [
    "carrFreq = np.zeros((37))\n",
    "codePhase = np.zeros((37))\n",
    "peakMetric = np.zeros((37))\n"
   ]
  },
  {
   "cell_type": "code",
   "execution_count": null,
   "id": "f37f851a",
   "metadata": {},
   "outputs": [],
   "source": [
    "def acqResults():\n",
    "    for i in acqSatelliteList:\n",
    "        caCodesT = caCodesTable[i] \n",
    "        caCodeFreqDom = np.conj(np.fft.fft(caCodesT))\n",
    "        for j in range(numberOfFrqBins):\n",
    "\n",
    "            # Generate carrier wave frequency grid (0.5kHz step) -----------\n",
    "            frqBins[j] = IF - (acqSearchBand/2) * 1000 + 0.25e3 * j\n",
    "\n",
    "            # Generate local sine and cosine -------------------------------\n",
    "            sigCarr = np.exp(1j*frqBins[j]*phasePoints)\n",
    "\n",
    "            # \"Remove carrier\" from the signal -----------------------------\n",
    "            I1      = np.real(sigCarr * signal1)\n",
    "            Q1      = np.imag(sigCarr * signal1)\n",
    "            I2      = np.real(sigCarr * signal2)\n",
    "            Q2      = np.imag(sigCarr * signal2)\n",
    "\n",
    "            # Convert the baseband signal to frequency domain --------------\n",
    "            IQfreqDom1 = np.fft.fft(I1 + 1j*Q1)\n",
    "            IQfreqDom2 = np.fft.fft(I2 + 1j*Q2)\n",
    "\n",
    "            # Multiplication in the frequency domain (correlation in time%domain)\n",
    "            convCodeIQ1 = np.multiply(IQfreqDom1, caCodeFreqDom)\n",
    "            convCodeIQ2 = np.multiply(IQfreqDom2 , caCodeFreqDom)\n",
    "\n",
    "            # Perform inverse DFT and store correlation results ------------\n",
    "            acqRes1 =np.power(abs(np.fft.ifft(convCodeIQ1)),2)\n",
    "            acqRes2 = np.power(abs(np.fft.ifft(convCodeIQ2)),2)\n",
    "\n",
    "            # Check which msec had the greater power and save that, will\n",
    "            # 1st and 2nd msec but will correct data bit issues\n",
    "            if (max(acqRes1) > max(acqRes2)):\n",
    "                results[j, :] = acqRes1\n",
    "            else:\n",
    "                results[j, :] = acqRes2\n",
    "        np.savetxt('test.csv', results, delimiter=',', fmt='%s')\n",
    "        # Looking for correlation peaks\n",
    "        peakSize= np.amax(np.amax(results,axis=0))\n",
    "        frequencyBinIndex = np.amax(results.argmax(axis=0),)#np.amax(np.where(results[j,:]==peakSize))\n",
    "        frequencyBinIndex = frequencyBinIndex\n",
    "        #print(peakSize,frequencyBinIndex)\n",
    "\n",
    "        # Find code phase of the same correlation peak ---------------------\n",
    "        peakSize = np.amax(np.amax(results,axis=1))\n",
    "        codePhase = np.amax(results.argmax(axis=1))\n",
    "        #print(peakSize,codePhase)\n",
    "        # Find 1 chip wide C/A code phase exclude range around the peak ----\n",
    "        samplesPerCodeChip   = round(samplingFreq /codeFreqBasis)\n",
    "        excludeRangeIndex1 = codePhase - samplesPerCodeChip\n",
    "        excludeRangeIndex2 = codePhase + samplesPerCodeChip\n",
    "\n",
    "        # Correct C/A code phase exclude range if the range includes array\n",
    "        #boundaries\n",
    "        if excludeRangeIndex1 < 2:\n",
    "            codePhaseRange = np.arange(excludeRangeIndex2 ,(samplesPerCode + excludeRangeIndex1-1))\n",
    "\n",
    "        elif excludeRangeIndex2 >= samplesPerCode:\n",
    "            codePhaseRange = np.arange(excludeRangeIndex2 - samplesPerCode,excludeRangeIndex1-1)\n",
    "        else:\n",
    "            codePhaseRange = np.hstack((np.arange(1,excludeRangeIndex1),np.arange(excludeRangeIndex2 ,samplesPerCode-1)))\n",
    "\n",
    "\n",
    "        # Find the second highest correlation peak in the same freq. bin ---\n",
    "        secondPeakSize = np.amax(results[frequencyBinIndex, codePhaseRange])\n",
    "        #print(peakSize/secondPeakSize)\n",
    "        # Store result -----------------------------------------------------\n",
    "        peakMetric[i] = peakSize/secondPeakSize\n",
    "        # If the result is above threshold, then there is a signal \n",
    "        if (peakSize/secondPeakSize) > acqThreshold:\n",
    "            caCode = generateCACode(i)\n",
    "            codeValueIndex = np.floor((ts * np.arange(1,10*samplesPerCode)) / \n",
    "                                   (1/codeFreqBasis))\n",
    "            print(codeValueIndex)\n",
    "            print(np.remainder(codeValueIndex,1023) + 1)\n",
    "            longCaCode = caCode[int(np.remainder(codeValueIndex,1023) + 1)]\n",
    "\n",
    "            # Remove C/A code modulation from the original signal ----------\n",
    "            # (Using detected C/A code phase)\n",
    "            xCarrier = np.multiply(signal0DC[codePhase:(codePhase + 10*samplesPerCode-1)] \n",
    "                , longCaCode)\n",
    "\n",
    "            # Compute the magnitude of the FFT, find maximum and the\n",
    "            #associated carrier frequency\n",
    "\n",
    "            # Find the next highest power of two and increase by 8x --------\n",
    "            fftNumPts = 8*(2**(nextpow2(length(xCarrier))))\n",
    "\n",
    "            # Compute the magnitude of the FFT, find maximum and the\n",
    "            #associated carrier frequency \n",
    "            fftxc = abs(np.fft.fft(xCarrier, fftNumPts))\n",
    "\n",
    "\n",
    "            uniqFftPts = ceil((fftNumPts + 1) / 2)\n",
    "            [fftMax, fftMaxIndex] = np.amax(fftxc),np.argmax(fftxc);\n",
    "            fftFreqBins = np.arange(0 ,uniqFftPts-1) *samplingFreq/fftNumPts;\n",
    "            if (fftMaxIndex > uniqFftPts): #%and should validate using complex data\n",
    "                if (rem(fftNumPts,2)==0):  #even number of points, so DC and Fs/2 computed\n",
    "                    fftFreqBinsRev=-fftFreqBins[(uniqFftPts-1):-1:2];\n",
    "                    fftMax, fftMaxIndex = np.arange(np.amax(fftxc[(uniqFftPts+1),len(fftxc)])),np.argmax(fftxc[(uniqFftPts+1),len(fftxc)]);\n",
    "                    carrFreq[i]  = -fftFreqBinsRev[fftMaxIndex];\n",
    "                else:  #%odd points so only DC is not included\n",
    "                    fftFreqBinsRev=-np.flip(fftFreqBins[2:(uniqFftPts)]);\n",
    "                    [fftMax, fftMaxIndex] = np.amax(fftxc[(uniqFftPts+1):length(fftxc)]),np.argmax(fftxc[(uniqFftPts+1):length(fftxc)])\n",
    "                    carrFreq[i] = fftFreqBinsRev[fftMaxIndex]\n",
    "                end\n",
    "            else:\n",
    "                carrFreq[i]  = (-1)**(fileType-1)*fftFreqBins(fftMaxIndex);\n",
    "\n",
    "\n",
    "            codePhase[i] = codePhase;\n",
    "            print(i,end =\" \")\n",
    "        else:\n",
    "            # No signal with this PRN --------------------------------------\n",
    "            print('. ',end =\" \")\n",
    "    return peakMetric,results"
   ]
  },
  {
   "cell_type": "code",
   "execution_count": null,
   "id": "e568fce8",
   "metadata": {},
   "outputs": [],
   "source": [
    "peakMetric,results= acqResults()"
   ]
  },
  {
   "cell_type": "code",
   "execution_count": null,
   "id": "c2c3d8ce",
   "metadata": {},
   "outputs": [],
   "source": [
    "fig = plt.figure((10,5))\n",
    "plt.bar(list(range(37)),peakMetric)\n",
    "plt.grid()"
   ]
  }
 ],
 "metadata": {
  "interpreter": {
   "hash": "d23443ef3d53bd788e63e1003939791c4db80ec613e98f0803bb16b9a0087661"
  },
  "kernelspec": {
   "display_name": "Python 3 (ipykernel)",
   "language": "python",
   "name": "python3"
  },
  "language_info": {
   "codemirror_mode": {
    "name": "ipython",
    "version": 3
   },
   "file_extension": ".py",
   "mimetype": "text/x-python",
   "name": "python",
   "nbconvert_exporter": "python",
   "pygments_lexer": "ipython3",
   "version": "3.8.11"
  },
  "toc-autonumbering": false,
  "toc-showtags": true
 },
 "nbformat": 4,
 "nbformat_minor": 5
}
