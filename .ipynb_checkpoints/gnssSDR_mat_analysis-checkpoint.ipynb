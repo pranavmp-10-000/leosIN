{
 "cells": [
  {
   "cell_type": "code",
   "execution_count": 1,
   "id": "71a900be-186b-402b-ae28-87ef17b9ad0d",
   "metadata": {},
   "outputs": [],
   "source": [
    "from scipy.io import loadmat"
   ]
  },
  {
   "cell_type": "code",
   "execution_count": 2,
   "id": "b57c4f8b-717c-45fd-bfa6-a6e051f40a29",
   "metadata": {},
   "outputs": [],
   "source": [
    "import matplotlib.pyplot as plt\n",
    "import numpy as np\n",
    "import pandas as pd"
   ]
  },
  {
   "cell_type": "code",
   "execution_count": 3,
   "id": "632e208b-9590-4593-b868-288905c305cb",
   "metadata": {},
   "outputs": [
    {
     "name": "stdout",
     "output_type": "stream",
     "text": [
      "<KeysViewHDF5 ['CN0_SNV_dB_Hz', 'PRN', 'PRN_start_sample_count', 'Prompt_I', 'Prompt_Q', 'abs_E', 'abs_L', 'abs_P', 'abs_VE', 'abs_VL', 'acc_carrier_phase_rad', 'aux1', 'aux2', 'carr_error_filt_hz', 'carr_error_hz', 'carrier_doppler_hz', 'carrier_doppler_rate_hz', 'carrier_lock_test', 'code_error_chips', 'code_error_filt_chips', 'code_freq_chips', 'code_freq_rate_chips']>\n"
     ]
    }
   ],
   "source": [
    "import h5py\n",
    "with h5py.File('data/tracking_ch_0.mat', 'r') as f:\n",
    "    print(f.keys())"
   ]
  },
  {
   "cell_type": "code",
   "execution_count": 4,
   "id": "ad9cc10d-ed34-4def-a728-f9dffa611720",
   "metadata": {},
   "outputs": [],
   "source": [
    "arrays = {}\n",
    "f = h5py.File('data/tracking_ch_0.mat','r')\n",
    "for k, v in f.items():\n",
    "    arrays[k] = np.array(v)"
   ]
  },
  {
   "cell_type": "code",
   "execution_count": 5,
   "id": "ee141753-eae9-43dc-98c9-84c37f967918",
   "metadata": {},
   "outputs": [
    {
     "data": {
      "text/plain": [
       "dict_keys(['CN0_SNV_dB_Hz', 'PRN', 'PRN_start_sample_count', 'Prompt_I', 'Prompt_Q', 'abs_E', 'abs_L', 'abs_P', 'abs_VE', 'abs_VL', 'acc_carrier_phase_rad', 'aux1', 'aux2', 'carr_error_filt_hz', 'carr_error_hz', 'carrier_doppler_hz', 'carrier_doppler_rate_hz', 'carrier_lock_test', 'code_error_chips', 'code_error_filt_chips', 'code_freq_chips', 'code_freq_rate_chips'])"
      ]
     },
     "execution_count": 5,
     "metadata": {},
     "output_type": "execute_result"
    }
   ],
   "source": [
    "arrays.keys()"
   ]
  },
  {
   "cell_type": "code",
   "execution_count": 6,
   "id": "1b7bf558-89ac-411a-a5d8-8679d2510580",
   "metadata": {},
   "outputs": [
    {
     "data": {
      "text/plain": [
       "<matplotlib.legend.Legend at 0x7fd277b5e2e0>"
      ]
     },
     "execution_count": 6,
     "metadata": {},
     "output_type": "execute_result"
    },
    {
     "data": {
      "image/png": "[encoded data removed]",
      "text/plain": [
       "<Figure size 432x288 with 1 Axes>"
      ]
     },
     "metadata": {
      "needs_background": "light"
     },
     "output_type": "display_data"
    }
   ],
   "source": [
    "plt.scatter(arrays['Prompt_I'],arrays['Prompt_Q'])\n",
    "plt.grid()\n",
    "plt.xticks([0])\n",
    "plt.yticks([0])\n",
    "plt.legend(np.unique(arrays['PRN']))"
   ]
  },
  {
   "cell_type": "markdown",
   "id": "8b267338-96e8-4d73-a970-c632efb4c394",
   "metadata": {},
   "source": [
    "# Navigation Message"
   ]
  },
  {
   "cell_type": "code",
   "execution_count": 7,
   "id": "66dec6e7-bfc6-4533-ac0e-81185041b348",
   "metadata": {},
   "outputs": [],
   "source": [
    "arrays = {}\n",
    "f = h5py.File('data/telemetry0.mat','r')\n",
    "for k, v in f.items():\n",
    "    arrays[k] = np.array(v)"
   ]
  },
  {
   "cell_type": "code",
   "execution_count": 8,
   "id": "ad355cb9-7c9d-4663-ba1c-bcbaec2978b8",
   "metadata": {},
   "outputs": [
    {
     "data": {
      "text/plain": [
       "dict_keys(['PRN', 'TOW_at_Preamble_ms', 'TOW_at_current_symbol_ms', 'nav_symbol', 'tracking_sample_counter'])"
      ]
     },
     "execution_count": 8,
     "metadata": {},
     "output_type": "execute_result"
    }
   ],
   "source": [
    "arrays.keys()"
   ]
  },
  {
   "cell_type": "code",
   "execution_count": 9,
   "id": "51ebd316-7b69-47b8-99fc-0b66b1e5e3c0",
   "metadata": {},
   "outputs": [
    {
     "data": {
      "text/plain": [
       "(3388, 1)"
      ]
     },
     "execution_count": 9,
     "metadata": {},
     "output_type": "execute_result"
    }
   ],
   "source": [
    "arrays['nav_symbol'].shape"
   ]
  },
  {
   "cell_type": "code",
   "execution_count": 10,
   "id": "ca042f44-0ef9-4ded-87e6-f8ad154936af",
   "metadata": {},
   "outputs": [
    {
     "data": {
      "text/plain": [
       "([<matplotlib.axis.YTick at 0x7ff489fe4940>,\n",
       "  <matplotlib.axis.YTick at 0x7ff489fe41c0>,\n",
       "  <matplotlib.axis.YTick at 0x7ff489fdf040>],\n",
       " [Text(0, 0, ''), Text(0, 0, ''), Text(0, 0, '')])"
      ]
     },
     "execution_count": 10,
     "metadata": {},
     "output_type": "execute_result"
    },
    {
     "data": {
      "image/png": "[encoded data removed]",
      "text/plain": [
       "<Figure size 1080x360 with 1 Axes>"
      ]
     },
     "metadata": {
      "needs_background": "light"
     },
     "output_type": "display_data"
    }
   ],
   "source": [
    "plt.figure(figsize=(15,5))\n",
    "pltData = arrays['nav_symbol'][:50]\n",
    "x=np.arange(0,pltData.shape[0])\n",
    "plt.step(x,pltData)\n",
    "plt.title('Navigation Message')\n",
    "plt.legend(np.unique(arrays['PRN']))\n",
    "plt.grid()\n",
    "plt.yticks([-1,0,1])"
   ]
  },
  {
   "cell_type": "code",
   "execution_count": null,
   "id": "893f35cf-6efe-46ea-a2b9-6d0af0ef7c88",
   "metadata": {},
   "outputs": [],
   "source": []
  },
  {
   "cell_type": "code",
   "execution_count": null,
   "id": "ad433ef9-8a7e-4d76-9b06-6129ad950904",
   "metadata": {},
   "outputs": [],
   "source": []
  }
 ],
 "metadata": {
  "kernelspec": {
   "display_name": "Python 3 (ipykernel)",
   "language": "python",
   "name": "python3"
  },
  "language_info": {
   "codemirror_mode": {
    "name": "ipython",
    "version": 3
   },
   "file_extension": ".py",
   "mimetype": "text/x-python",
   "name": "python",
   "nbconvert_exporter": "python",
   "pygments_lexer": "ipython3",
   "version": "3.8.11"
  }
 },
 "nbformat": 4,
 "nbformat_minor": 5
}
