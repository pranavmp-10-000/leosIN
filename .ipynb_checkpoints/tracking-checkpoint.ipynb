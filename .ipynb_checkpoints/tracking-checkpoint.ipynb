{
 "cells": [
  {
   "cell_type": "code",
   "execution_count": 25,
   "id": "707881a1-5a2b-48fa-9f0a-70c1416f28e2",
   "metadata": {},
   "outputs": [],
   "source": [
    "import numpy as np"
   ]
  },
  {
   "cell_type": "code",
   "execution_count": 26,
   "id": "20c0b810-a554-4207-acfb-be97647e6adb",
   "metadata": {},
   "outputs": [],
   "source": [
    "def calculateSNR():\n",
    "    pass\n",
    "def CbyN():\n",
    "    pass"
   ]
  },
  {
   "cell_type": "code",
   "execution_count": 27,
   "id": "22a087b8-1ca6-4ee0-adc8-a5b7fb7e7df7",
   "metadata": {},
   "outputs": [],
   "source": [
    "GPS_WORD_LENGTH = 4                                                                                         \n",
    "GPS_SUBFRAME_LENGTH = 40                                                                                     \n",
    "GPS_SUBFRAME_BITS = 300                                                                                     \n",
    "GPS_SUBFRAME_SECONDS = 6                                                                                   \n",
    "GPS_SUBFRAME_MS = 6000                                                                                     \n",
    "GPS_WORD_BITS = 30\n",
    "#Tracking Symbol\n",
    "L1CA_PREAMBLE = '10001011'\n",
    "#Telemetry Symbol\n",
    "L1CA_PREAMBLE_SYMBOLS = '1111111111111111111100000000000000000000000000000000000000000000000000000000000011111111111111111111000000000000000000001111111111111111111111111111111111111111'"
   ]
  },
  {
   "cell_type": "code",
   "execution_count": 28,
   "id": "e3e75f03-6ee4-4a78-a514-d820ac25ab09",
   "metadata": {},
   "outputs": [],
   "source": [
    "T = 0.001 #update_interval\n",
    "noiseBW  =15 #Default Noise Bandwidth set to 15 db\n",
    "zeta = 1/np.sqrt(2)"
   ]
  },
  {
   "cell_type": "code",
   "execution_count": 29,
   "id": "a9efed96-f86f-4a70-8298-cfa61b281450",
   "metadata": {},
   "outputs": [],
   "source": [
    "def calculateLoopCoeff(noise_bw,zeta,k=1):\n",
    "    Wn = noise_bw*8*zeta / (4*(zeta**2) + 1)\n",
    "    # solve for t1 & t2\n",
    "    tau1 = (Wn * Wn)\n",
    "    tau2 = 2.0 * zeta * Wn\n",
    "    return tau1,tau2"
   ]
  },
  {
   "cell_type": "code",
   "execution_count": 30,
   "id": "2370e1ed-2b69-4978-9148-46a9de86160e",
   "metadata": {},
   "outputs": [
    {
     "name": "stdout",
     "output_type": "stream",
     "text": [
      "800.0000000000001 40.0\n",
      "[40.4, -39.6] [1]\n"
     ]
    }
   ],
   "source": [
    "tau1Code,tau2Code = calculateLoopCoeff(noiseBW,zeta,)\n",
    "input_coefficients = [0,0]\n",
    "input_coefficients[0] = tau1Code*T/2 + tau2Code\n",
    "input_coefficients[1] = tau1Code*T/2  - tau2Code\n",
    "d_output_coefficients = [1]\n",
    "print(tau1Code,tau2Code)\n",
    "print(input_coefficients, d_output_coefficients)"
   ]
  },
  {
   "cell_type": "code",
   "execution_count": 31,
   "id": "151e9d73-333a-46bc-909d-a3814b6e2844",
   "metadata": {},
   "outputs": [],
   "source": [
    "def codeLockDetector():\n",
    "    pass"
   ]
  },
  {
   "cell_type": "code",
   "execution_count": 32,
   "id": "a3815b3b-434e-4aba-8da9-3df85244decc",
   "metadata": {},
   "outputs": [],
   "source": [
    "def carrierLockDetector():\n",
    "    pass"
   ]
  },
  {
   "cell_type": "code",
   "execution_count": null,
   "id": "e0c3a871-48f6-4bfb-a70f-dbaec729d9e1",
   "metadata": {},
   "outputs": [],
   "source": []
  }
 ],
 "metadata": {
  "kernelspec": {
   "display_name": "Python 3 (ipykernel)",
   "language": "python",
   "name": "python3"
  },
  "language_info": {
   "codemirror_mode": {
    "name": "ipython",
    "version": 3
   },
   "file_extension": ".py",
   "mimetype": "text/x-python",
   "name": "python",
   "nbconvert_exporter": "python",
   "pygments_lexer": "ipython3",
   "version": "3.8.11"
  }
 },
 "nbformat": 4,
 "nbformat_minor": 5
}
